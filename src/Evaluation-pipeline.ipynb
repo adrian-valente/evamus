{
 "cells": [
  {
   "cell_type": "code",
   "execution_count": 1,
   "metadata": {},
   "outputs": [],
   "source": [
    "%matplotlib inline\n",
    "%load_ext autoreload\n",
    "%autoreload 2"
   ]
  },
  {
   "cell_type": "markdown",
   "metadata": {},
   "source": [
    "# Preprocessing"
   ]
  },
  {
   "cell_type": "code",
   "execution_count": 157,
   "metadata": {
    "scrolled": true
   },
   "outputs": [
    {
     "name": "stdout",
     "output_type": "stream",
     "text": [
      "Processing 1\n",
      "Processing 10\n",
      "Processing 100\n",
      "Processing 101\n",
      "Processing 102\n",
      "Processing 103\n",
      "Processing 104\n",
      "Processing 105\n",
      "Processing 106\n",
      "Processing 107\n",
      "Processing 108\n",
      "Processing 109\n",
      "Processing 11\n",
      "Processing 110\n",
      "Processing 111\n",
      "Processing 112\n",
      "Processing 113\n",
      "Processing 114\n",
      "Processing 115\n",
      "Processing 116\n",
      "Processing 117\n",
      "Processing 118\n",
      "Processing 119\n",
      "Processing 12\n",
      "Processing 120\n",
      "Processing 122\n",
      "Processing 123\n",
      "Processing 124\n",
      "Processing 125\n",
      "Processing 126\n",
      "Processing 127\n",
      "Processing 128\n",
      "Processing 129\n",
      "Processing 13\n",
      "Processing 130\n",
      "Processing 131\n",
      "Processing 132\n",
      "Processing 134\n",
      "Processing 135\n",
      "Processing 136\n",
      "Processing 137\n",
      "Processing 138\n",
      "Processing 139\n",
      "Processing 14\n",
      "Processing 140\n",
      "Processing 141\n",
      "Processing 142\n",
      "Processing 143\n",
      "Processing 144\n",
      "Processing 145\n",
      "Processing 146\n",
      "Processing 147\n",
      "Processing 148\n",
      "Processing 149\n",
      "Processing 15\n",
      "Processing 150\n",
      "Processing 151\n",
      "Processing 152\n",
      "Processing 153\n",
      "Processing 154\n",
      "Processing 155\n",
      "Processing 156\n",
      "Processing 157\n",
      "Processing 158\n",
      "Processing 159\n",
      "Processing 16\n",
      "Processing 160\n",
      "Processing 161\n",
      "Processing 162\n",
      "Processing 163\n",
      "Processing 164\n",
      "Processing 165\n",
      "Processing 166\n",
      "Processing 167\n",
      "Processing 168\n",
      "Processing 169\n",
      "Processing 17\n",
      "Processing 170\n",
      "Processing 171\n",
      "Processing 172\n",
      "Processing 173\n",
      "Processing 174\n",
      "Processing 175\n",
      "Processing 176\n",
      "Processing 177\n",
      "Processing 178\n",
      "Processing 179\n",
      "Processing 18\n",
      "Processing 180\n",
      "Processing 181\n",
      "Processing 182\n",
      "Processing 183\n",
      "Processing 184\n",
      "Processing 185\n",
      "Processing 186\n",
      "Processing 187\n",
      "Processing 188\n",
      "Processing 189\n",
      "Processing 19\n",
      "Processing 190\n",
      "Processing 192\n",
      "Processing 193\n",
      "Processing 194\n",
      "Processing 195\n",
      "Processing 196\n",
      "Processing 197\n",
      "Processing 198\n",
      "Processing 2\n",
      "Processing 20\n",
      "Processing 200\n",
      "Processing 201\n",
      "Processing 202\n",
      "Processing 203\n",
      "Processing 204\n",
      "Processing 205\n",
      "Processing 206\n",
      "Processing 207\n",
      "Processing 208\n",
      "Processing 209\n",
      "Processing 21\n",
      "Processing 210\n",
      "Processing 211\n",
      "Processing 212\n",
      "Processing 214\n",
      "Processing 215\n",
      "Processing 216\n",
      "Processing 217\n",
      "Processing 218\n",
      "Processing 219\n",
      "Processing 22\n",
      "Processing 220\n",
      "Processing 221\n",
      "Processing 222\n",
      "Processing 223\n",
      "Processing 224\n",
      "Processing 225\n",
      "Processing 226\n",
      "Processing 227\n",
      "Processing 228\n",
      "Processing 229\n",
      "Processing 23\n",
      "Processing 230\n",
      "Processing 231\n",
      "Processing 232\n",
      "Processing 233\n",
      "Processing 234\n",
      "Processing 235\n",
      "Processing 236\n",
      "Processing 237\n",
      "Processing 238\n",
      "Processing 239\n",
      "Processing 24\n",
      "Processing 240\n",
      "Processing 241\n",
      "Processing 242\n",
      "Processing 243\n",
      "Processing 244\n",
      "Processing 245\n",
      "Processing 246\n",
      "Processing 247\n",
      "Processing 248\n",
      "Processing 249\n",
      "Processing 25\n",
      "Processing 250\n",
      "Processing 251\n",
      "Processing 252\n",
      "Processing 253\n",
      "Processing 254\n",
      "Processing 255\n",
      "Processing 256\n",
      "Processing 257\n",
      "Processing 258\n",
      "Processing 259\n",
      "Processing 26\n",
      "Processing 260\n",
      "Processing 261\n",
      "Processing 262\n",
      "Processing 263\n",
      "Processing 264\n",
      "Processing 265\n",
      "Processing 266\n",
      "Processing 267\n",
      "Processing 268\n",
      "Processing 269\n",
      "Processing 27\n",
      "Processing 270\n",
      "Processing 271\n",
      "Processing 272\n",
      "Processing 273\n",
      "Processing 274\n",
      "Processing 275\n",
      "Processing 276\n",
      "Processing 277\n",
      "Processing 278\n",
      "Processing 279\n",
      "Processing 28\n",
      "Processing 280\n",
      "Processing 281\n",
      "Processing 282\n",
      "Processing 283\n",
      "Processing 284\n",
      "Processing 285\n",
      "Processing 286\n",
      "Processing 287\n",
      "Processing 288\n",
      "Processing 289\n",
      "Processing 29\n",
      "Processing 290\n",
      "Processing 291\n",
      "Processing 292\n",
      "Processing 293\n",
      "Processing 294\n",
      "Processing 295\n",
      "Processing 296\n",
      "Processing 298\n",
      "Processing 299\n",
      "Processing 3\n",
      "Processing 30\n",
      "Processing 300\n",
      "Processing 301\n",
      "Processing 302\n",
      "Processing 303\n",
      "Processing 304\n",
      "Processing 305\n",
      "Processing 306\n",
      "Processing 307\n",
      "Processing 308\n",
      "Processing 309\n",
      "Processing 31\n",
      "Processing 310\n",
      "Processing 311\n",
      "Processing 312\n",
      "Processing 313\n",
      "Processing 314\n",
      "Processing 315\n",
      "Processing 316\n",
      "Processing 317\n",
      "Processing 318\n",
      "Processing 319\n",
      "Processing 32\n",
      "Processing 320\n",
      "Processing 321\n",
      "Processing 322\n",
      "Processing 323\n",
      "Processing 324\n",
      "Processing 325\n",
      "Processing 326\n",
      "Processing 327\n",
      "Processing 328\n",
      "Processing 329\n",
      "Processing 33\n",
      "Processing 330\n",
      "Processing 331\n",
      "Processing 332\n",
      "Processing 333\n",
      "Processing 334\n",
      "Processing 335\n",
      "Processing 337\n",
      "Processing 338\n",
      "Processing 339\n",
      "Processing 34\n",
      "Processing 340\n",
      "Processing 341\n",
      "Processing 342\n",
      "Processing 343\n",
      "Processing 344\n",
      "Processing 345\n",
      "Processing 346\n",
      "Processing 347\n",
      "Processing 348\n",
      "Processing 349\n",
      "Processing 35\n",
      "Processing 350\n",
      "Processing 351\n",
      "Processing 352\n",
      "Processing 353\n",
      "Processing 354\n",
      "Processing 355\n",
      "Processing 356\n",
      "Processing 357\n",
      "Processing 358\n",
      "Processing 359\n",
      "Processing 36\n",
      "Processing 360\n",
      "Processing 361\n",
      "Processing 362\n",
      "Processing 363\n",
      "Processing 364\n",
      "Processing 365\n",
      "Processing 366\n",
      "Processing 367\n",
      "Processing 368\n",
      "Processing 369\n",
      "Processing 37\n",
      "Processing 370\n",
      "Processing 371\n",
      "Processing 372\n",
      "Processing 373\n",
      "Processing 374\n",
      "Processing 375\n",
      "Processing 376\n",
      "Processing 377\n",
      "Processing 378\n",
      "Processing 379\n",
      "Processing 38\n",
      "Processing 380\n",
      "Processing 381\n",
      "Processing 382\n",
      "Processing 383\n",
      "Processing 384\n",
      "Processing 385\n",
      "Processing 386\n",
      "Processing 387\n",
      "Processing 388\n",
      "Processing 389\n",
      "Processing 39\n",
      "Processing 4\n",
      "Processing 40\n",
      "Processing 41\n",
      "Processing 42\n",
      "Processing 43\n",
      "Processing 44\n",
      "Processing 45\n",
      "Processing 46\n",
      "Processing 47\n",
      "Processing 48\n",
      "Processing 49\n",
      "Processing 5\n",
      "Processing 50\n",
      "Processing 51\n",
      "Processing 52\n",
      "Processing 53\n",
      "Processing 54\n",
      "Processing 55\n",
      "Processing 56\n",
      "Processing 57\n",
      "Processing 58\n",
      "Processing 59\n",
      "Processing 6\n",
      "Processing 60\n",
      "Processing 61\n",
      "Processing 62\n",
      "Processing 63\n",
      "Processing 64\n",
      "Processing 65\n",
      "Processing 66\n",
      "Processing 67\n",
      "Processing 68\n",
      "Processing 69\n",
      "Processing 7\n",
      "Processing 70\n",
      "Processing 71\n",
      "Processing 72\n",
      "Processing 73\n",
      "Processing 74\n",
      "Processing 75\n",
      "Processing 76\n",
      "Processing 77\n",
      "Processing 78\n",
      "Processing 79\n",
      "Processing 8\n",
      "Processing 80\n",
      "Processing 81\n",
      "Processing 82\n",
      "Processing 83\n",
      "Processing 84\n",
      "Processing 85\n",
      "Processing 86\n",
      "Processing 87\n",
      "Processing 88\n",
      "Processing 89\n",
      "Processing 9\n",
      "Processing 90\n",
      "Processing 91\n",
      "Processing 92\n",
      "Processing 93\n",
      "Processing 94\n",
      "Processing 95\n",
      "Processing 96\n",
      "Processing 97\n",
      "Processing 98\n",
      "Processing 99\n",
      "########--dtseqs--#########\n",
      "(0.0, '0', 36336)\n",
      "(0.041666666666666664, '32)3', 0)\n",
      "(0.08333333333333333, '16)3', 0)\n",
      "(0.125, '32', 0)\n",
      "(0.16666666666666666, '8)3', 0)\n",
      "(0.1875, '32.', 0)\n",
      "(0.25, '16', 0)\n",
      "(0.3333333333333333, '4)3', 0)\n",
      "(0.375, '16.', 0)\n",
      "(0.5, '8', 0)\n",
      "(0.6666666666666666, '2)3', 0)\n",
      "(0.75, '8.', 0)\n",
      "(1.0, '4', 18089)\n",
      "(1.3333333333333333, '1)3', 0)\n",
      "(1.5, '4.', 0)\n",
      "(2.0, '2', 1107)\n",
      "(2.6666666666666665, '.5)3', 0)\n",
      "(3.0, '2.', 413)\n",
      "(4.0, '1', 81)\n",
      "(5.333333333333333, '.25)3', 5)\n",
      "(6.0, '1.', 19)\n",
      "(8.0, '.5', 7)\n",
      "(12.0, '.5.', 2)\n",
      "(16.0, '.25', 0)\n",
      "(24.0, '.25.', 0)\n",
      "('Dim: ', 25)\n",
      "########--Tseqs--#########\n",
      "(0.0, '0', 0)\n",
      "(0.041666666666666664, '32)3', 0)\n",
      "(0.08333333333333333, '16)3', 0)\n",
      "(0.125, '32', 0)\n",
      "(0.16666666666666666, '8)3', 0)\n",
      "(0.1875, '32.', 0)\n",
      "(0.25, '16', 0)\n",
      "(0.3333333333333333, '4)3', 0)\n",
      "(0.375, '16.', 0)\n",
      "(0.5, '8', 0)\n",
      "(0.6666666666666666, '2)3', 0)\n",
      "(0.75, '8.', 0)\n",
      "(1.0, '4', 37479)\n",
      "(1.3333333333333333, '1)3', 0)\n",
      "(1.5, '4.', 0)\n",
      "(2.0, '2', 11247)\n",
      "(2.6666666666666665, '.5)3', 0)\n",
      "(3.0, '2.', 3807)\n",
      "(4.0, '1', 1990)\n",
      "(5.333333333333333, '.25)3', 684)\n",
      "(6.0, '1.', 604)\n",
      "(8.0, '.5', 192)\n",
      "(12.0, '.5.', 45)\n",
      "(16.0, '.25', 8)\n",
      "(24.0, '.25.', 3)\n",
      "('Dim: ', 25)\n",
      "########--pitchseqs--#########\n",
      "(43, 'G3', 3)\n",
      "(44, 'G#3', 0)\n",
      "(45, 'A3', 1)\n",
      "(46, 'bB3', 9)\n",
      "(47, 'B3', 0)\n",
      "(48, 'C4', 163)\n",
      "(49, 'C#4', 8)\n",
      "(50, 'D4', 73)\n",
      "(51, 'D#4', 126)\n",
      "(52, 'E4', 129)\n",
      "(53, 'F4', 350)\n",
      "(54, 'F#4', 50)\n",
      "(55, 'G4', 918)\n",
      "(56, 'G#4', 305)\n",
      "(57, 'A4', 528)\n",
      "(58, 'bB4', 420)\n",
      "(59, 'B4', 432)\n",
      "(60, 'C5', 2610)\n",
      "(61, 'C#5', 158)\n",
      "(62, 'D5', 1384)\n",
      "(63, 'D#5', 1095)\n",
      "(64, 'E5', 1462)\n",
      "(65, 'F5', 1950)\n",
      "(66, 'F#5', 361)\n",
      "(67, 'G5', 3474)\n",
      "(68, 'G#5', 1087)\n",
      "(69, 'A5', 1827)\n",
      "(70, 'bB5', 1156)\n",
      "(71, 'B5', 1927)\n",
      "(72, 'C6', 3938)\n",
      "(73, 'C#6', 267)\n",
      "(74, 'D6', 3009)\n",
      "(75, 'D#6', 1769)\n",
      "(76, 'E6', 2346)\n",
      "(77, 'F6', 2475)\n",
      "(78, 'F#6', 343)\n",
      "(79, 'G6', 4146)\n",
      "(80, 'G#6', 911)\n",
      "(81, 'A6', 1916)\n",
      "(82, 'bB6', 1135)\n",
      "(83, 'B6', 1691)\n",
      "(84, 'C7', 3073)\n",
      "(85, 'C#7', 69)\n",
      "(86, 'D7', 2388)\n",
      "(87, 'D#7', 992)\n",
      "(88, 'E7', 1214)\n",
      "(89, 'F7', 1130)\n",
      "(90, 'F#7', 57)\n",
      "(91, 'G7', 902)\n",
      "(92, 'G#7', 59)\n",
      "(93, 'A7', 135)\n",
      "(94, 'bB7', 48)\n",
      "(95, 'B7', 18)\n",
      "(96, 'C8', 22)\n",
      "('Dim: ', 54)\n"
     ]
    }
   ],
   "source": [
    "from utils.preprocessing import preprocess, split\n",
    "datasetname = \"JSB_Chorales\"\n",
    "datapath = \"../data/\"+datasetname+'/'\n",
    "dataset, sizes, dictionaries = preprocess(datapath)\n",
    "k_folds = 5\n",
    "splitted = split(dataset, k_folds)"
   ]
  },
  {
   "cell_type": "code",
   "execution_count": 158,
   "metadata": {},
   "outputs": [
    {
     "name": "stdout",
     "output_type": "stream",
     "text": [
      "(25, 25, 54)\n",
      "[12, 15, 17, 18, 19, 20, 21, 22, 23, 24]\n",
      "[0, 12, 15, 17, 18, 19, 20, 21, 22]\n",
      "[0, 2, 3, 5, 6, 7, 8, 9, 10, 11, 12, 13, 14, 15, 16, 17, 18, 19, 20, 21, 22, 23, 24, 25, 26, 27, 28, 29, 30, 31, 32, 33, 34, 35, 36, 37, 38, 39, 40, 41, 42, 43, 44, 45, 46, 47, 48, 49, 50, 51, 52, 53]\n"
     ]
    }
   ],
   "source": [
    "print sizes\n",
    "print sorted(set([]).union(*(set(dataset['tseqs'][i]) for i in range(len(dataset['tseqs'])))))\n",
    "print sorted(set([]).union(*(set(dataset['dTseqs'][i]) for i in range(len(dataset['dTseqs'])))))\n",
    "print sorted(set([]).union(*(set(dataset['pitchseqs'][i]) for i in range(len(dataset['pitchseqs'])))))"
   ]
  },
  {
   "cell_type": "markdown",
   "metadata": {},
   "source": [
    "# Evaluation"
   ]
  },
  {
   "cell_type": "code",
   "execution_count": 160,
   "metadata": {},
   "outputs": [
    {
     "name": "stdout",
     "output_type": "stream",
     "text": [
      "0.330018291243\n",
      "8.68742808545\n",
      "0.340325123986\n",
      "9.03278059563\n",
      "0.340028386074\n",
      "8.85192049944\n",
      "0.333359354826\n",
      "8.60485926213\n",
      "0.337231413762\n",
      "9.04295977449\n",
      "2.16111841747\n",
      "6.63012203158\n",
      "2.13590525777\n",
      "7.00355403667\n",
      "2.12203240271\n",
      "6.8374898202\n",
      "2.15449252574\n",
      "6.65812402348\n",
      "2.16786353677\n",
      "7.0331196299\n"
     ]
    }
   ],
   "source": [
    "from models.ingram import INgram\n",
    "from models.fungram import FUNgram\n",
    "from utils.evaluation import compare_models\n",
    "\n",
    "modelsDic = {'ingram': (INgram, {'order':4}),\n",
    "            'fungram': (FUNgram, {'order': 12, 'sizes': sizes})}\n",
    "\n",
    "models, metrics = compare_models(splitted, modelsDic)"
   ]
  },
  {
   "cell_type": "code",
   "execution_count": 162,
   "metadata": {},
   "outputs": [
    {
     "data": {
      "image/png": "[encoded data removed]",
      "text/plain": [
       "<matplotlib.figure.Figure at 0x11e29ce90>"
      ]
     },
     "metadata": {},
     "output_type": "display_data"
    },
    {
     "data": {
      "image/png": "[encoded data removed]",
      "text/plain": [
       "<matplotlib.figure.Figure at 0x11e29ce50>"
      ]
     },
     "metadata": {},
     "output_type": "display_data"
    },
    {
     "data": {
      "image/png": "[encoded data removed]",
      "text/plain": [
       "<matplotlib.figure.Figure at 0x1143ca650>"
      ]
     },
     "metadata": {},
     "output_type": "display_data"
    },
    {
     "data": {
      "image/png": "[encoded data removed]",
      "text/plain": [
       "<matplotlib.figure.Figure at 0x11b0cbc90>"
      ]
     },
     "metadata": {},
     "output_type": "display_data"
    }
   ],
   "source": [
    "from utils.evaluation import plot_metric\n",
    "from math import log\n",
    "plot_metric(metrics, 'NLL_global', \"Negative Note Log-Likelihood\", uniform=log((25*25*54)))\n",
    "plot_metric(metrics, 'NLL_dT', \"dT Negative Log-Likelihood\", uniform=log(25.))\n",
    "plot_metric(metrics, 'NLL_t', \"t Negative Log-Likelihood\", uniform=log(25.))\n",
    "plot_metric(metrics, 'NLL_pitch', 'pitch Negative Log-Likelihood', uniform=log(54.))"
   ]
  },
  {
   "cell_type": "code",
   "execution_count": 135,
   "metadata": {},
   "outputs": [
    {
     "data": {
      "image/png": "[encoded data removed]",
      "text/plain": [
       "<matplotlib.figure.Figure at 0x122f480d0>"
      ]
     },
     "metadata": {},
     "output_type": "display_data"
    },
    {
     "data": {
      "image/png": "[encoded data removed]",
      "text/plain": [
       "<matplotlib.figure.Figure at 0x1236645d0>"
      ]
     },
     "metadata": {},
     "output_type": "display_data"
    },
    {
     "data": {
      "image/png": "[encoded data removed]",
      "text/plain": [
       "<matplotlib.figure.Figure at 0x12287bf90>"
      ]
     },
     "metadata": {},
     "output_type": "display_data"
    },
    {
     "data": {
      "image/png": "[encoded data removed]",
      "text/plain": [
       "<matplotlib.figure.Figure at 0x122ded6d0>"
      ]
     },
     "metadata": {},
     "output_type": "display_data"
    }
   ],
   "source": [
    "plot_metric(metrics, 'accuracy_global', \"Note accuracy\", uniform = 1./(25*25*54))\n",
    "plot_metric(metrics, 'accuracy_dT', \"dT accuracy\", uniform = 1./25)\n",
    "plot_metric(metrics, 'accuracy_t', \"t accuracy\", uniform = 1./25)\n",
    "plot_metric(metrics, 'accuracy_pitch', 'pitch accuracy', uniform = 1./54)"
   ]
  },
  {
   "cell_type": "markdown",
   "metadata": {},
   "source": [
    "# Generation"
   ]
  },
  {
   "cell_type": "code",
   "execution_count": 164,
   "metadata": {},
   "outputs": [
    {
     "name": "stdout",
     "output_type": "stream",
     "text": [
      "3\n"
     ]
    }
   ],
   "source": [
    "import numpy as np\n",
    "i = np.argmax(metrics['fungram']['test']['accuracy_global'])\n",
    "print(i)\n",
    "model = models['fungram'][i]\n",
    "gen_data = model.generate(n_songs=5, write_MIDI=True, dictionaries=dictionaries, path=datapath+\"gen/\")"
   ]
  },
  {
   "cell_type": "code",
   "execution_count": 144,
   "metadata": {},
   "outputs": [
    {
     "name": "stdout",
     "output_type": "stream",
     "text": [
      "defaultdict(<type 'float'>, {0: 2669.0, 1: 34.0, 2: 158.0, 3: 3883.0, 4: 3263.0, 5: 3518.0, 6: 983.0, 7: 1947.0, 8: 3421.0, 9: 3489.0, 10: 128.0, 11: 14.0})\n"
     ]
    },
    {
     "data": {
      "image/png": "[encoded data removed]",
      "text/plain": [
       "<matplotlib.figure.Figure at 0x13d285b90>"
      ]
     },
     "metadata": {},
     "output_type": "display_data"
    }
   ],
   "source": [
    "from utils.evaluation import analyze_chords\n",
    "analyze_chords(dataset, gen_data)"
   ]
  },
  {
   "cell_type": "code",
   "execution_count": 145,
   "metadata": {},
   "outputs": [
    {
     "name": "stdout",
     "output_type": "stream",
     "text": [
      "defaultdict(<type 'float'>, {0: 1867.0, 1: 1062.0, 2: 2638.0, 3: 1145.0, 4: 856.0, 5: 2434.0, 6: 703.0, 7: 3503.0, 8: 982.0, 9: 925.0, 10: 1849.0, 11: 1767.0})\n"
     ]
    },
    {
     "data": {
      "image/png": "[encoded data removed]",
      "text/plain": [
       "<matplotlib.figure.Figure at 0x146a5ae50>"
      ]
     },
     "metadata": {},
     "output_type": "display_data"
    }
   ],
   "source": [
    "from utils.evaluation import analyze_intervals\n",
    "analyze_intervals(dataset, gen_data)"
   ]
  },
  {
   "cell_type": "code",
   "execution_count": 166,
   "metadata": {},
   "outputs": [
    {
     "name": "stdout",
     "output_type": "stream",
     "text": [
      "0\n"
     ]
    }
   ],
   "source": [
    "i = np.argmax(metrics['ingram']['test']['accuracy_global'])\n",
    "print(i)\n",
    "model = models['ingram'][i]\n",
    "gen_data = model.generate(n_songs=5, write_MIDI=True, dictionaries=dictionaries, path=datapath+'gen/')"
   ]
  },
  {
   "cell_type": "code",
   "execution_count": 147,
   "metadata": {},
   "outputs": [
    {
     "name": "stdout",
     "output_type": "stream",
     "text": [
      "defaultdict(<type 'float'>, {0: 2669.0, 1: 34.0, 2: 158.0, 3: 3883.0, 4: 3263.0, 5: 3518.0, 6: 983.0, 7: 1947.0, 8: 3421.0, 9: 3489.0, 10: 128.0, 11: 14.0})\n"
     ]
    },
    {
     "data": {
      "image/png": "[encoded data removed]",
      "text/plain": [
       "<matplotlib.figure.Figure at 0x114384890>"
      ]
     },
     "metadata": {},
     "output_type": "display_data"
    }
   ],
   "source": [
    "from utils.evaluation import analyze_chords\n",
    "analyze_chords(dataset, gen_data)"
   ]
  },
  {
   "cell_type": "code",
   "execution_count": 141,
   "metadata": {},
   "outputs": [
    {
     "name": "stdout",
     "output_type": "stream",
     "text": [
      "defaultdict(<type 'float'>, {0: 1867.0, 1: 1062.0, 2: 2638.0, 3: 1145.0, 4: 856.0, 5: 2434.0, 6: 703.0, 7: 3503.0, 8: 982.0, 9: 925.0, 10: 1849.0, 11: 1767.0})\n"
     ]
    },
    {
     "data": {
      "image/png": "[encoded data removed]",
      "text/plain": [
       "<matplotlib.figure.Figure at 0x13d285190>"
      ]
     },
     "metadata": {},
     "output_type": "display_data"
    }
   ],
   "source": [
    "from utils.evaluation import analyze_intervals\n",
    "analyze_intervals(dataset, gen_data)"
   ]
  },
  {
   "cell_type": "code",
   "execution_count": null,
   "metadata": {},
   "outputs": [],
   "source": []
  }
 ],
 "metadata": {
  "kernelspec": {
   "display_name": "Python 2",
   "language": "python",
   "name": "python2"
  },
  "language_info": {
   "codemirror_mode": {
    "name": "ipython",
    "version": 2
   },
   "file_extension": ".py",
   "mimetype": "text/x-python",
   "name": "python",
   "nbconvert_exporter": "python",
   "pygments_lexer": "ipython2",
   "version": "2.7.14"
  }
 },
 "nbformat": 4,
 "nbformat_minor": 2
}
